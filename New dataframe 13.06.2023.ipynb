{
 "cells": [
  {
   "cell_type": "markdown",
   "id": "44f11964",
   "metadata": {},
   "source": [
    "### Creating dataframes using different methods"
   ]
  },
  {
   "cell_type": "code",
   "execution_count": 1,
   "id": "a74e1294",
   "metadata": {},
   "outputs": [],
   "source": [
    "import pandas as pd\n",
    "import numpy as np"
   ]
  },
  {
   "cell_type": "markdown",
   "id": "8c6584a8",
   "metadata": {},
   "source": [
    "#### Finding Data Types"
   ]
  },
  {
   "cell_type": "code",
   "execution_count": 3,
   "id": "db0a3d54",
   "metadata": {},
   "outputs": [
    {
     "name": "stdout",
     "output_type": "stream",
     "text": [
      "object\n"
     ]
    }
   ],
   "source": [
    "Series1 = pd.Series(['Arun','Biben','Geo','Joyal'])\n",
    "print(Series1.dtype)"
   ]
  },
  {
   "cell_type": "markdown",
   "id": "a4273a23",
   "metadata": {},
   "source": [
    "#### Converting to List"
   ]
  },
  {
   "cell_type": "code",
   "execution_count": 4,
   "id": "b9dbee36",
   "metadata": {},
   "outputs": [
    {
     "name": "stdout",
     "output_type": "stream",
     "text": [
      "['Arun', 'Biben', 'Geo', 'Joyal']\n"
     ]
    }
   ],
   "source": [
    "print(Series1.to_list())"
   ]
  },
  {
   "attachments": {},
   "cell_type": "markdown",
   "id": "9398c1dc",
   "metadata": {},
   "source": [
    "### Pandas DataFrame\n",
    "A Pandas dataframe is a tabular data structure that stores data in the form of rows and columns.\n",
    "As a standard, the rows correspond to records while columns refer to attributes. In simplest\n",
    "words, a Pandas dataframe is a collection of series."
   ]
  },
  {
   "cell_type": "markdown",
   "id": "51615b7f",
   "metadata": {},
   "source": [
    "#### Empty dataframe"
   ]
  },
  {
   "cell_type": "code",
   "execution_count": 5,
   "id": "75ba0b00",
   "metadata": {},
   "outputs": [
    {
     "name": "stdout",
     "output_type": "stream",
     "text": [
      "Empty DataFrame\n",
      "Columns: []\n",
      "Index: []\n"
     ]
    }
   ],
   "source": [
    "my_df = pd.DataFrame()\n",
    "print(my_df)"
   ]
  },
  {
   "cell_type": "markdown",
   "id": "9dd345bc",
   "metadata": {},
   "source": [
    "#### 1. Dataframe using list of lists"
   ]
  },
  {
   "cell_type": "code",
   "execution_count": 21,
   "id": "1132b2d9",
   "metadata": {},
   "outputs": [],
   "source": [
    "Ages = [['Arun',26,'Male'],['Biben',25,'Male'],['Geo',25,'Male'],['Joyal',26,'Male'],['Shenfer',24],['Shebin',24,'Male'],['Arya',26,'Female']]"
   ]
  },
  {
   "cell_type": "code",
   "execution_count": 22,
   "id": "9d462a3a",
   "metadata": {},
   "outputs": [
    {
     "data": {
      "text/html": [
       "<div>\n",
       "<style scoped>\n",
       "    .dataframe tbody tr th:only-of-type {\n",
       "        vertical-align: middle;\n",
       "    }\n",
       "\n",
       "    .dataframe tbody tr th {\n",
       "        vertical-align: top;\n",
       "    }\n",
       "\n",
       "    .dataframe thead th {\n",
       "        text-align: right;\n",
       "    }\n",
       "</style>\n",
       "<table border=\"1\" class=\"dataframe\">\n",
       "  <thead>\n",
       "    <tr style=\"text-align: right;\">\n",
       "      <th></th>\n",
       "      <th>Name</th>\n",
       "      <th>Ages</th>\n",
       "      <th>Gender</th>\n",
       "    </tr>\n",
       "  </thead>\n",
       "  <tbody>\n",
       "    <tr>\n",
       "      <th>0</th>\n",
       "      <td>Arun</td>\n",
       "      <td>26</td>\n",
       "      <td>Male</td>\n",
       "    </tr>\n",
       "    <tr>\n",
       "      <th>1</th>\n",
       "      <td>Biben</td>\n",
       "      <td>25</td>\n",
       "      <td>Male</td>\n",
       "    </tr>\n",
       "    <tr>\n",
       "      <th>2</th>\n",
       "      <td>Geo</td>\n",
       "      <td>25</td>\n",
       "      <td>Male</td>\n",
       "    </tr>\n",
       "    <tr>\n",
       "      <th>3</th>\n",
       "      <td>Joyal</td>\n",
       "      <td>26</td>\n",
       "      <td>Male</td>\n",
       "    </tr>\n",
       "    <tr>\n",
       "      <th>4</th>\n",
       "      <td>Shenfer</td>\n",
       "      <td>24</td>\n",
       "      <td>None</td>\n",
       "    </tr>\n",
       "    <tr>\n",
       "      <th>5</th>\n",
       "      <td>Shebin</td>\n",
       "      <td>24</td>\n",
       "      <td>Male</td>\n",
       "    </tr>\n",
       "    <tr>\n",
       "      <th>6</th>\n",
       "      <td>Arya</td>\n",
       "      <td>26</td>\n",
       "      <td>Female</td>\n",
       "    </tr>\n",
       "  </tbody>\n",
       "</table>\n",
       "</div>"
      ],
      "text/plain": [
       "      Name  Ages  Gender\n",
       "0     Arun    26    Male\n",
       "1    Biben    25    Male\n",
       "2      Geo    25    Male\n",
       "3    Joyal    26    Male\n",
       "4  Shenfer    24    None\n",
       "5   Shebin    24    Male\n",
       "6     Arya    26  Female"
      ]
     },
     "execution_count": 22,
     "metadata": {},
     "output_type": "execute_result"
    }
   ],
   "source": [
    "my_df = pd.DataFrame(Ages,columns =['Name','Ages','Gender'])\n",
    "my_df"
   ]
  },
  {
   "cell_type": "markdown",
   "id": "7913449a",
   "metadata": {},
   "source": [
    "#### 2. DataFrame using dictionaries"
   ]
  },
  {
   "cell_type": "code",
   "execution_count": 19,
   "id": "b159c1a6",
   "metadata": {},
   "outputs": [],
   "source": [
    "Ages = {'Names':['Arun','Biben','Geo','Joyal','Shenfeer','Shebin','Arya'],\n",
    "       'Ages':[26,25,25,26,24,24,26],\n",
    "    'Gender':['Male','Male','Male','Male','Male','Male','Female']}"
   ]
  },
  {
   "cell_type": "code",
   "execution_count": 20,
   "id": "d68548ee",
   "metadata": {},
   "outputs": [
    {
     "data": {
      "text/html": [
       "<div>\n",
       "<style scoped>\n",
       "    .dataframe tbody tr th:only-of-type {\n",
       "        vertical-align: middle;\n",
       "    }\n",
       "\n",
       "    .dataframe tbody tr th {\n",
       "        vertical-align: top;\n",
       "    }\n",
       "\n",
       "    .dataframe thead th {\n",
       "        text-align: right;\n",
       "    }\n",
       "</style>\n",
       "<table border=\"1\" class=\"dataframe\">\n",
       "  <thead>\n",
       "    <tr style=\"text-align: right;\">\n",
       "      <th></th>\n",
       "      <th>Names</th>\n",
       "      <th>Ages</th>\n",
       "      <th>Gender</th>\n",
       "    </tr>\n",
       "  </thead>\n",
       "  <tbody>\n",
       "    <tr>\n",
       "      <th>0</th>\n",
       "      <td>Arun</td>\n",
       "      <td>26</td>\n",
       "      <td>Male</td>\n",
       "    </tr>\n",
       "    <tr>\n",
       "      <th>1</th>\n",
       "      <td>Biben</td>\n",
       "      <td>25</td>\n",
       "      <td>Male</td>\n",
       "    </tr>\n",
       "    <tr>\n",
       "      <th>2</th>\n",
       "      <td>Geo</td>\n",
       "      <td>25</td>\n",
       "      <td>Male</td>\n",
       "    </tr>\n",
       "    <tr>\n",
       "      <th>3</th>\n",
       "      <td>Joyal</td>\n",
       "      <td>26</td>\n",
       "      <td>Male</td>\n",
       "    </tr>\n",
       "    <tr>\n",
       "      <th>4</th>\n",
       "      <td>Shenfeer</td>\n",
       "      <td>24</td>\n",
       "      <td>Male</td>\n",
       "    </tr>\n",
       "    <tr>\n",
       "      <th>5</th>\n",
       "      <td>Shebin</td>\n",
       "      <td>24</td>\n",
       "      <td>Male</td>\n",
       "    </tr>\n",
       "    <tr>\n",
       "      <th>6</th>\n",
       "      <td>Arya</td>\n",
       "      <td>26</td>\n",
       "      <td>Female</td>\n",
       "    </tr>\n",
       "  </tbody>\n",
       "</table>\n",
       "</div>"
      ],
      "text/plain": [
       "      Names  Ages  Gender\n",
       "0      Arun    26    Male\n",
       "1     Biben    25    Male\n",
       "2       Geo    25    Male\n",
       "3     Joyal    26    Male\n",
       "4  Shenfeer    24    Male\n",
       "5    Shebin    24    Male\n",
       "6      Arya    26  Female"
      ]
     },
     "execution_count": 20,
     "metadata": {},
     "output_type": "execute_result"
    }
   ],
   "source": [
    "my_df = pd.DataFrame(Ages)\n",
    "my_df"
   ]
  },
  {
   "cell_type": "markdown",
   "id": "ee4f7823",
   "metadata": {},
   "source": [
    "#### 3. Dataframe using list of dictionaries"
   ]
  },
  {
   "cell_type": "code",
   "execution_count": 17,
   "id": "4f65466b",
   "metadata": {},
   "outputs": [
    {
     "data": {
      "text/html": [
       "<div>\n",
       "<style scoped>\n",
       "    .dataframe tbody tr th:only-of-type {\n",
       "        vertical-align: middle;\n",
       "    }\n",
       "\n",
       "    .dataframe tbody tr th {\n",
       "        vertical-align: top;\n",
       "    }\n",
       "\n",
       "    .dataframe thead th {\n",
       "        text-align: right;\n",
       "    }\n",
       "</style>\n",
       "<table border=\"1\" class=\"dataframe\">\n",
       "  <thead>\n",
       "    <tr style=\"text-align: right;\">\n",
       "      <th></th>\n",
       "      <th>Names</th>\n",
       "      <th>Age</th>\n",
       "      <th>Gender</th>\n",
       "    </tr>\n",
       "  </thead>\n",
       "  <tbody>\n",
       "    <tr>\n",
       "      <th>0</th>\n",
       "      <td>Arun</td>\n",
       "      <td>26</td>\n",
       "      <td>Male</td>\n",
       "    </tr>\n",
       "    <tr>\n",
       "      <th>1</th>\n",
       "      <td>Biben</td>\n",
       "      <td>25</td>\n",
       "      <td>Male</td>\n",
       "    </tr>\n",
       "    <tr>\n",
       "      <th>2</th>\n",
       "      <td>Geo</td>\n",
       "      <td>25</td>\n",
       "      <td>Male</td>\n",
       "    </tr>\n",
       "    <tr>\n",
       "      <th>3</th>\n",
       "      <td>Joyal</td>\n",
       "      <td>26</td>\n",
       "      <td>Male</td>\n",
       "    </tr>\n",
       "    <tr>\n",
       "      <th>4</th>\n",
       "      <td>Shenfeer</td>\n",
       "      <td>24</td>\n",
       "      <td>Male</td>\n",
       "    </tr>\n",
       "    <tr>\n",
       "      <th>5</th>\n",
       "      <td>Shebin</td>\n",
       "      <td>24</td>\n",
       "      <td>Male</td>\n",
       "    </tr>\n",
       "    <tr>\n",
       "      <th>6</th>\n",
       "      <td>Arya</td>\n",
       "      <td>26</td>\n",
       "      <td>Female</td>\n",
       "    </tr>\n",
       "  </tbody>\n",
       "</table>\n",
       "</div>"
      ],
      "text/plain": [
       "      Names  Age  Gender\n",
       "0      Arun   26    Male\n",
       "1     Biben   25    Male\n",
       "2       Geo   25    Male\n",
       "3     Joyal   26    Male\n",
       "4  Shenfeer   24    Male\n",
       "5    Shebin   24    Male\n",
       "6      Arya   26  Female"
      ]
     },
     "execution_count": 17,
     "metadata": {},
     "output_type": "execute_result"
    }
   ],
   "source": [
    "Ages = [{'Names': 'Arun','Age':26,'Gender':'Male'},\n",
    "       {'Names': 'Biben','Age':25,'Gender':'Male'},\n",
    "       {'Names': 'Geo','Age':25,'Gender':'Male'},\n",
    "       {'Names': 'Joyal','Age':26,'Gender':'Male'},\n",
    "       {'Names': 'Shenfeer','Age':24,'Gender':'Male'},\n",
    "       {'Names': 'Shebin','Age':24,'Gender':'Male'},\n",
    "       {'Names': 'Arya','Age':26,'Gender':'Female'}]\n",
    "my_df = pd.DataFrame(Ages)\n",
    "my_df"
   ]
  },
  {
   "cell_type": "code",
   "execution_count": null,
   "id": "5df6105d",
   "metadata": {},
   "outputs": [],
   "source": []
  }
 ],
 "metadata": {
  "kernelspec": {
   "display_name": "Python 3 (ipykernel)",
   "language": "python",
   "name": "python3"
  },
  "language_info": {
   "codemirror_mode": {
    "name": "ipython",
    "version": 3
   },
   "file_extension": ".py",
   "mimetype": "text/x-python",
   "name": "python",
   "nbconvert_exporter": "python",
   "pygments_lexer": "ipython3",
   "version": "3.10.9"
  }
 },
 "nbformat": 4,
 "nbformat_minor": 5
}
